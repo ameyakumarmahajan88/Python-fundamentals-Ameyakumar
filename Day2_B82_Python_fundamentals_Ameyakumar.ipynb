{
 "cells": [
  {
   "cell_type": "code",
   "execution_count": 1,
   "id": "aaa27907",
   "metadata": {},
   "outputs": [
    {
     "name": "stdout",
     "output_type": "stream",
     "text": [
      "5\n"
     ]
    }
   ],
   "source": [
    "x = 2\n",
    "y = 3\n",
    "\n",
    "z = x + y\n",
    "print(z)"
   ]
  },
  {
   "cell_type": "code",
   "execution_count": 2,
   "id": "7d5fb20f",
   "metadata": {},
   "outputs": [
    {
     "ename": "SyntaxError",
     "evalue": "invalid syntax (683451998.py, line 1)",
     "output_type": "error",
     "traceback": [
      "\u001b[1;36m  Cell \u001b[1;32mIn[2], line 1\u001b[1;36m\u001b[0m\n\u001b[1;33m    first name = 'Ameyakumar'\u001b[0m\n\u001b[1;37m          ^\u001b[0m\n\u001b[1;31mSyntaxError\u001b[0m\u001b[1;31m:\u001b[0m invalid syntax\n"
     ]
    }
   ],
   "source": [
    "first name = 'Ameyakumar'"
   ]
  },
  {
   "cell_type": "code",
   "execution_count": 3,
   "id": "98ab4216",
   "metadata": {},
   "outputs": [],
   "source": [
    "first_name ='Ameyakumar'"
   ]
  },
  {
   "cell_type": "code",
   "execution_count": 4,
   "id": "d25b3001",
   "metadata": {},
   "outputs": [
    {
     "ename": "SyntaxError",
     "evalue": "invalid decimal literal (845728353.py, line 1)",
     "output_type": "error",
     "traceback": [
      "\u001b[1;36m  Cell \u001b[1;32mIn[4], line 1\u001b[1;36m\u001b[0m\n\u001b[1;33m    1name='Ameya'\u001b[0m\n\u001b[1;37m    ^\u001b[0m\n\u001b[1;31mSyntaxError\u001b[0m\u001b[1;31m:\u001b[0m invalid decimal literal\n"
     ]
    }
   ],
   "source": [
    "1name='Ameya'"
   ]
  },
  {
   "cell_type": "code",
   "execution_count": 5,
   "id": "0f781034",
   "metadata": {},
   "outputs": [],
   "source": [
    "name1='Ameya'"
   ]
  },
  {
   "cell_type": "code",
   "execution_count": 6,
   "id": "39ef15ff",
   "metadata": {},
   "outputs": [
    {
     "name": "stdout",
     "output_type": "stream",
     "text": [
      "Ameya\n"
     ]
    }
   ],
   "source": [
    "print(name1)"
   ]
  },
  {
   "cell_type": "code",
   "execution_count": 7,
   "id": "64160044",
   "metadata": {},
   "outputs": [
    {
     "ename": "SyntaxError",
     "evalue": "invalid syntax (2225916490.py, line 1)",
     "output_type": "error",
     "traceback": [
      "\u001b[1;36m  Cell \u001b[1;32mIn[7], line 1\u001b[1;36m\u001b[0m\n\u001b[1;33m    name@ = 'Ameya'\u001b[0m\n\u001b[1;37m          ^\u001b[0m\n\u001b[1;31mSyntaxError\u001b[0m\u001b[1;31m:\u001b[0m invalid syntax\n"
     ]
    }
   ],
   "source": [
    "name@ = 'Ameya'"
   ]
  },
  {
   "cell_type": "code",
   "execution_count": 8,
   "id": "e25c1bf8",
   "metadata": {},
   "outputs": [
    {
     "name": "stdout",
     "output_type": "stream",
     "text": [
      "Pratik\n"
     ]
    }
   ],
   "source": [
    "a='Pratik'\n",
    "print(a)"
   ]
  },
  {
   "cell_type": "code",
   "execution_count": 9,
   "id": "fdc87952",
   "metadata": {},
   "outputs": [
    {
     "name": "stdout",
     "output_type": "stream",
     "text": [
      "Ameya\n"
     ]
    }
   ],
   "source": [
    "b=\"Ameya\"\n",
    "print(b)\n"
   ]
  },
  {
   "cell_type": "code",
   "execution_count": 10,
   "id": "0dad0040",
   "metadata": {},
   "outputs": [],
   "source": [
    "# This symbol is used to denote comments. Anything that we enter in this space will be ignored by the compiler"
   ]
  },
  {
   "cell_type": "code",
   "execution_count": 11,
   "id": "a69b5f64",
   "metadata": {},
   "outputs": [],
   "source": [
    "# Rules for defining variables:\n",
    "# 1 Variable name should not contain space\n",
    "# 2 Variable name should not begin with number\n",
    "# 3 variable name should not contain special characters like @ # $ &"
   ]
  },
  {
   "cell_type": "code",
   "execution_count": null,
   "id": "b486233e",
   "metadata": {},
   "outputs": [],
   "source": []
  }
 ],
 "metadata": {
  "kernelspec": {
   "display_name": "Python 3 (ipykernel)",
   "language": "python",
   "name": "python3"
  },
  "language_info": {
   "codemirror_mode": {
    "name": "ipython",
    "version": 3
   },
   "file_extension": ".py",
   "mimetype": "text/x-python",
   "name": "python",
   "nbconvert_exporter": "python",
   "pygments_lexer": "ipython3",
   "version": "3.11.4"
  }
 },
 "nbformat": 4,
 "nbformat_minor": 5
}
